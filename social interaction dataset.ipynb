{
 "cells": [
  {
   "cell_type": "code",
   "execution_count": 12,
   "metadata": {},
   "outputs": [],
   "source": [
    "import pandas as pd\n",
    "import matplotlib.pyplot as plt\n",
    "import seaborn as sns\n",
    "import statsmodels.api as sm\n",
    "import numpy as np\n",
    "import time\n",
    "\n",
    "from sklearn.linear_model import LinearRegression"
   ]
  },
  {
   "cell_type": "code",
   "execution_count": 13,
   "metadata": {},
   "outputs": [],
   "source": [
    "dataset = pd.read_csv('LondonTrajectoriesDataset.csv')"
   ]
  },
  {
   "cell_type": "code",
   "execution_count": 14,
   "metadata": {},
   "outputs": [
    {
     "data": {
      "text/html": [
       "<div>\n",
       "<style scoped>\n",
       "    .dataframe tbody tr th:only-of-type {\n",
       "        vertical-align: middle;\n",
       "    }\n",
       "\n",
       "    .dataframe tbody tr th {\n",
       "        vertical-align: top;\n",
       "    }\n",
       "\n",
       "    .dataframe thead th {\n",
       "        text-align: right;\n",
       "    }\n",
       "</style>\n",
       "<table border=\"1\" class=\"dataframe\">\n",
       "  <thead>\n",
       "    <tr style=\"text-align: right;\">\n",
       "      <th></th>\n",
       "      <th>ID</th>\n",
       "      <th>crimeNorm</th>\n",
       "      <th>accidentNorm</th>\n",
       "      <th>natureNorm</th>\n",
       "      <th>attractionNorm</th>\n",
       "      <th>durationNorm</th>\n",
       "      <th>trafficNorm</th>\n",
       "      <th>lengthNorm</th>\n",
       "      <th>setID</th>\n",
       "      <th>crimes</th>\n",
       "      <th>accidents</th>\n",
       "      <th>attractions</th>\n",
       "      <th>nature</th>\n",
       "      <th>traffic</th>\n",
       "      <th>duration</th>\n",
       "      <th>length</th>\n",
       "      <th>coordinates</th>\n",
       "    </tr>\n",
       "  </thead>\n",
       "  <tbody>\n",
       "    <tr>\n",
       "      <th>0</th>\n",
       "      <td>0.0</td>\n",
       "      <td>1.000000</td>\n",
       "      <td>1.000000</td>\n",
       "      <td>1.000000</td>\n",
       "      <td>0.0</td>\n",
       "      <td>0.850299</td>\n",
       "      <td>0.902928</td>\n",
       "      <td>0.943543</td>\n",
       "      <td>0.0</td>\n",
       "      <td>93945.0</td>\n",
       "      <td>3.0</td>\n",
       "      <td>0.0</td>\n",
       "      <td>159627.730267</td>\n",
       "      <td>0.936027</td>\n",
       "      <td>594.0</td>\n",
       "      <td>4386.0</td>\n",
       "      <td>-0.189227:51.608657;-0.18897:51.60881;-0.18947...</td>\n",
       "    </tr>\n",
       "    <tr>\n",
       "      <th>1</th>\n",
       "      <td>1.0</td>\n",
       "      <td>0.827466</td>\n",
       "      <td>0.083333</td>\n",
       "      <td>0.655719</td>\n",
       "      <td>0.0</td>\n",
       "      <td>0.610778</td>\n",
       "      <td>0.968484</td>\n",
       "      <td>0.734651</td>\n",
       "      <td>0.0</td>\n",
       "      <td>95832.0</td>\n",
       "      <td>14.0</td>\n",
       "      <td>0.0</td>\n",
       "      <td>150019.960244</td>\n",
       "      <td>0.940063</td>\n",
       "      <td>634.0</td>\n",
       "      <td>4682.0</td>\n",
       "      <td>-0.189227:51.608657;-0.18897:51.60881;-0.18947...</td>\n",
       "    </tr>\n",
       "    <tr>\n",
       "      <th>2</th>\n",
       "      <td>2.0</td>\n",
       "      <td>0.663070</td>\n",
       "      <td>1.000000</td>\n",
       "      <td>0.172519</td>\n",
       "      <td>0.0</td>\n",
       "      <td>1.000000</td>\n",
       "      <td>1.000000</td>\n",
       "      <td>1.000000</td>\n",
       "      <td>0.0</td>\n",
       "      <td>97630.0</td>\n",
       "      <td>3.0</td>\n",
       "      <td>0.0</td>\n",
       "      <td>136535.383810</td>\n",
       "      <td>0.942004</td>\n",
       "      <td>569.0</td>\n",
       "      <td>4306.0</td>\n",
       "      <td>-0.189227:51.608657;-0.18897:51.60881;-0.18947...</td>\n",
       "    </tr>\n",
       "    <tr>\n",
       "      <th>3</th>\n",
       "      <td>3.0</td>\n",
       "      <td>0.000000</td>\n",
       "      <td>0.000000</td>\n",
       "      <td>0.000000</td>\n",
       "      <td>0.0</td>\n",
       "      <td>0.000000</td>\n",
       "      <td>0.000000</td>\n",
       "      <td>0.000000</td>\n",
       "      <td>0.0</td>\n",
       "      <td>104882.0</td>\n",
       "      <td>15.0</td>\n",
       "      <td>0.0</td>\n",
       "      <td>131720.927792</td>\n",
       "      <td>0.880435</td>\n",
       "      <td>736.0</td>\n",
       "      <td>5723.0</td>\n",
       "      <td>-0.189227:51.608657;-0.18897:51.60881;-0.18947...</td>\n",
       "    </tr>\n",
       "    <tr>\n",
       "      <th>4</th>\n",
       "      <td>4.0</td>\n",
       "      <td>1.000000</td>\n",
       "      <td>1.000000</td>\n",
       "      <td>0.061683</td>\n",
       "      <td>0.0</td>\n",
       "      <td>1.000000</td>\n",
       "      <td>1.000000</td>\n",
       "      <td>0.547141</td>\n",
       "      <td>1.0</td>\n",
       "      <td>108461.0</td>\n",
       "      <td>3.0</td>\n",
       "      <td>0.0</td>\n",
       "      <td>140749.174738</td>\n",
       "      <td>0.926582</td>\n",
       "      <td>790.0</td>\n",
       "      <td>5785.0</td>\n",
       "      <td>0.05167:51.651006;0.05391:51.65157;0.05433:51....</td>\n",
       "    </tr>\n",
       "    <tr>\n",
       "      <th>...</th>\n",
       "      <td>...</td>\n",
       "      <td>...</td>\n",
       "      <td>...</td>\n",
       "      <td>...</td>\n",
       "      <td>...</td>\n",
       "      <td>...</td>\n",
       "      <td>...</td>\n",
       "      <td>...</td>\n",
       "      <td>...</td>\n",
       "      <td>...</td>\n",
       "      <td>...</td>\n",
       "      <td>...</td>\n",
       "      <td>...</td>\n",
       "      <td>...</td>\n",
       "      <td>...</td>\n",
       "      <td>...</td>\n",
       "      <td>...</td>\n",
       "    </tr>\n",
       "    <tr>\n",
       "      <th>3166</th>\n",
       "      <td>3166.0</td>\n",
       "      <td>0.471464</td>\n",
       "      <td>0.589744</td>\n",
       "      <td>1.000000</td>\n",
       "      <td>0.0</td>\n",
       "      <td>0.000000</td>\n",
       "      <td>0.535208</td>\n",
       "      <td>1.000000</td>\n",
       "      <td>599.0</td>\n",
       "      <td>119890.0</td>\n",
       "      <td>86.0</td>\n",
       "      <td>0.0</td>\n",
       "      <td>667051.802766</td>\n",
       "      <td>0.868759</td>\n",
       "      <td>1402.0</td>\n",
       "      <td>12234.0</td>\n",
       "      <td>-0.3148:51.38421;-0.31478:51.38416;-0.31477:51...</td>\n",
       "    </tr>\n",
       "    <tr>\n",
       "      <th>3167</th>\n",
       "      <td>3167.0</td>\n",
       "      <td>0.759268</td>\n",
       "      <td>1.000000</td>\n",
       "      <td>0.045809</td>\n",
       "      <td>1.0</td>\n",
       "      <td>0.493333</td>\n",
       "      <td>1.000000</td>\n",
       "      <td>0.000000</td>\n",
       "      <td>599.0</td>\n",
       "      <td>88488.0</td>\n",
       "      <td>70.0</td>\n",
       "      <td>2.0</td>\n",
       "      <td>442868.647098</td>\n",
       "      <td>0.925040</td>\n",
       "      <td>1254.0</td>\n",
       "      <td>17589.0</td>\n",
       "      <td>-0.3148:51.38421;-0.31478:51.38416;-0.31477:51...</td>\n",
       "    </tr>\n",
       "    <tr>\n",
       "      <th>3168</th>\n",
       "      <td>3168.0</td>\n",
       "      <td>0.138238</td>\n",
       "      <td>0.871795</td>\n",
       "      <td>0.000000</td>\n",
       "      <td>1.0</td>\n",
       "      <td>0.170000</td>\n",
       "      <td>0.072508</td>\n",
       "      <td>0.155742</td>\n",
       "      <td>599.0</td>\n",
       "      <td>156248.0</td>\n",
       "      <td>75.0</td>\n",
       "      <td>2.0</td>\n",
       "      <td>432106.118161</td>\n",
       "      <td>0.812731</td>\n",
       "      <td>1351.0</td>\n",
       "      <td>16755.0</td>\n",
       "      <td>-0.3148:51.38421;-0.31478:51.38416;-0.31477:51...</td>\n",
       "    </tr>\n",
       "    <tr>\n",
       "      <th>3169</th>\n",
       "      <td>3169.0</td>\n",
       "      <td>0.000000</td>\n",
       "      <td>0.769231</td>\n",
       "      <td>0.126673</td>\n",
       "      <td>1.0</td>\n",
       "      <td>0.286667</td>\n",
       "      <td>0.000000</td>\n",
       "      <td>0.175350</td>\n",
       "      <td>599.0</td>\n",
       "      <td>171331.0</td>\n",
       "      <td>79.0</td>\n",
       "      <td>2.0</td>\n",
       "      <td>461867.359785</td>\n",
       "      <td>0.803951</td>\n",
       "      <td>1316.0</td>\n",
       "      <td>16650.0</td>\n",
       "      <td>-0.3148:51.38421;-0.31478:51.38416;-0.31477:51...</td>\n",
       "    </tr>\n",
       "    <tr>\n",
       "      <th>3170</th>\n",
       "      <td>NaN</td>\n",
       "      <td>NaN</td>\n",
       "      <td>NaN</td>\n",
       "      <td>NaN</td>\n",
       "      <td>NaN</td>\n",
       "      <td>NaN</td>\n",
       "      <td>NaN</td>\n",
       "      <td>NaN</td>\n",
       "      <td>NaN</td>\n",
       "      <td>NaN</td>\n",
       "      <td>NaN</td>\n",
       "      <td>NaN</td>\n",
       "      <td>NaN</td>\n",
       "      <td>NaN</td>\n",
       "      <td>NaN</td>\n",
       "      <td>NaN</td>\n",
       "      <td>NaN</td>\n",
       "    </tr>\n",
       "  </tbody>\n",
       "</table>\n",
       "<p>3171 rows × 17 columns</p>\n",
       "</div>"
      ],
      "text/plain": [
       "          ID  crimeNorm  accidentNorm  natureNorm  attractionNorm  \\\n",
       "0        0.0   1.000000      1.000000    1.000000             0.0   \n",
       "1        1.0   0.827466      0.083333    0.655719             0.0   \n",
       "2        2.0   0.663070      1.000000    0.172519             0.0   \n",
       "3        3.0   0.000000      0.000000    0.000000             0.0   \n",
       "4        4.0   1.000000      1.000000    0.061683             0.0   \n",
       "...      ...        ...           ...         ...             ...   \n",
       "3166  3166.0   0.471464      0.589744    1.000000             0.0   \n",
       "3167  3167.0   0.759268      1.000000    0.045809             1.0   \n",
       "3168  3168.0   0.138238      0.871795    0.000000             1.0   \n",
       "3169  3169.0   0.000000      0.769231    0.126673             1.0   \n",
       "3170     NaN        NaN           NaN         NaN             NaN   \n",
       "\n",
       "      durationNorm  trafficNorm  lengthNorm  setID    crimes  accidents  \\\n",
       "0         0.850299     0.902928    0.943543    0.0   93945.0        3.0   \n",
       "1         0.610778     0.968484    0.734651    0.0   95832.0       14.0   \n",
       "2         1.000000     1.000000    1.000000    0.0   97630.0        3.0   \n",
       "3         0.000000     0.000000    0.000000    0.0  104882.0       15.0   \n",
       "4         1.000000     1.000000    0.547141    1.0  108461.0        3.0   \n",
       "...            ...          ...         ...    ...       ...        ...   \n",
       "3166      0.000000     0.535208    1.000000  599.0  119890.0       86.0   \n",
       "3167      0.493333     1.000000    0.000000  599.0   88488.0       70.0   \n",
       "3168      0.170000     0.072508    0.155742  599.0  156248.0       75.0   \n",
       "3169      0.286667     0.000000    0.175350  599.0  171331.0       79.0   \n",
       "3170           NaN          NaN         NaN    NaN       NaN        NaN   \n",
       "\n",
       "      attractions         nature   traffic  duration   length  \\\n",
       "0             0.0  159627.730267  0.936027     594.0   4386.0   \n",
       "1             0.0  150019.960244  0.940063     634.0   4682.0   \n",
       "2             0.0  136535.383810  0.942004     569.0   4306.0   \n",
       "3             0.0  131720.927792  0.880435     736.0   5723.0   \n",
       "4             0.0  140749.174738  0.926582     790.0   5785.0   \n",
       "...           ...            ...       ...       ...      ...   \n",
       "3166          0.0  667051.802766  0.868759    1402.0  12234.0   \n",
       "3167          2.0  442868.647098  0.925040    1254.0  17589.0   \n",
       "3168          2.0  432106.118161  0.812731    1351.0  16755.0   \n",
       "3169          2.0  461867.359785  0.803951    1316.0  16650.0   \n",
       "3170          NaN            NaN       NaN       NaN      NaN   \n",
       "\n",
       "                                            coordinates  \n",
       "0     -0.189227:51.608657;-0.18897:51.60881;-0.18947...  \n",
       "1     -0.189227:51.608657;-0.18897:51.60881;-0.18947...  \n",
       "2     -0.189227:51.608657;-0.18897:51.60881;-0.18947...  \n",
       "3     -0.189227:51.608657;-0.18897:51.60881;-0.18947...  \n",
       "4     0.05167:51.651006;0.05391:51.65157;0.05433:51....  \n",
       "...                                                 ...  \n",
       "3166  -0.3148:51.38421;-0.31478:51.38416;-0.31477:51...  \n",
       "3167  -0.3148:51.38421;-0.31478:51.38416;-0.31477:51...  \n",
       "3168  -0.3148:51.38421;-0.31478:51.38416;-0.31477:51...  \n",
       "3169  -0.3148:51.38421;-0.31478:51.38416;-0.31477:51...  \n",
       "3170                                                NaN  \n",
       "\n",
       "[3171 rows x 17 columns]"
      ]
     },
     "execution_count": 14,
     "metadata": {},
     "output_type": "execute_result"
    }
   ],
   "source": [
    "dataset"
   ]
  },
  {
   "cell_type": "code",
   "execution_count": 15,
   "metadata": {},
   "outputs": [],
   "source": [
    "df = pd.DataFrame(data=dataset, columns=dataset.columns)"
   ]
  },
  {
   "cell_type": "code",
   "execution_count": 16,
   "metadata": {},
   "outputs": [],
   "source": [
    "df.dropna(how='any',axis=0, inplace=True) "
   ]
  },
  {
   "cell_type": "code",
   "execution_count": 17,
   "metadata": {},
   "outputs": [],
   "source": [
    "df.drop(['coordinates'], axis=1, inplace=True)"
   ]
  },
  {
   "cell_type": "code",
   "execution_count": 18,
   "metadata": {},
   "outputs": [
    {
     "data": {
      "text/plain": [
       "Index(['ID', 'crimeNorm', 'accidentNorm', 'natureNorm', 'attractionNorm',\n",
       "       'durationNorm', 'trafficNorm', 'lengthNorm', 'setID', 'crimes',\n",
       "       'accidents', 'attractions', 'nature', 'traffic', 'duration', 'length'],\n",
       "      dtype='object')"
      ]
     },
     "execution_count": 18,
     "metadata": {},
     "output_type": "execute_result"
    }
   ],
   "source": [
    "df.columns"
   ]
  },
  {
   "cell_type": "markdown",
   "metadata": {},
   "source": [
    "## Standardising the dataset"
   ]
  },
  {
   "cell_type": "code",
   "execution_count": 19,
   "metadata": {},
   "outputs": [],
   "source": [
    "from sklearn.preprocessing import MinMaxScaler\n",
    "scaler = MinMaxScaler()\n",
    "df_scaled = pd.DataFrame(scaler.fit_transform(df), columns=df.columns)"
   ]
  },
  {
   "cell_type": "code",
   "execution_count": 20,
   "metadata": {},
   "outputs": [
    {
     "data": {
      "text/html": [
       "<div>\n",
       "<style scoped>\n",
       "    .dataframe tbody tr th:only-of-type {\n",
       "        vertical-align: middle;\n",
       "    }\n",
       "\n",
       "    .dataframe tbody tr th {\n",
       "        vertical-align: top;\n",
       "    }\n",
       "\n",
       "    .dataframe thead th {\n",
       "        text-align: right;\n",
       "    }\n",
       "</style>\n",
       "<table border=\"1\" class=\"dataframe\">\n",
       "  <thead>\n",
       "    <tr style=\"text-align: right;\">\n",
       "      <th></th>\n",
       "      <th>ID</th>\n",
       "      <th>crimeNorm</th>\n",
       "      <th>accidentNorm</th>\n",
       "      <th>natureNorm</th>\n",
       "      <th>attractionNorm</th>\n",
       "      <th>durationNorm</th>\n",
       "      <th>trafficNorm</th>\n",
       "      <th>lengthNorm</th>\n",
       "      <th>setID</th>\n",
       "      <th>crimes</th>\n",
       "      <th>accidents</th>\n",
       "      <th>attractions</th>\n",
       "      <th>nature</th>\n",
       "      <th>traffic</th>\n",
       "      <th>duration</th>\n",
       "      <th>length</th>\n",
       "    </tr>\n",
       "  </thead>\n",
       "  <tbody>\n",
       "    <tr>\n",
       "      <th>0</th>\n",
       "      <td>0.000000</td>\n",
       "      <td>1.000000</td>\n",
       "      <td>1.000000</td>\n",
       "      <td>1.000000</td>\n",
       "      <td>0.0</td>\n",
       "      <td>0.850299</td>\n",
       "      <td>0.902928</td>\n",
       "      <td>0.943543</td>\n",
       "      <td>0.000000</td>\n",
       "      <td>0.026788</td>\n",
       "      <td>0.000000</td>\n",
       "      <td>0.000000</td>\n",
       "      <td>0.044779</td>\n",
       "      <td>0.888351</td>\n",
       "      <td>0.020955</td>\n",
       "      <td>0.035581</td>\n",
       "    </tr>\n",
       "    <tr>\n",
       "      <th>1</th>\n",
       "      <td>0.000316</td>\n",
       "      <td>0.827466</td>\n",
       "      <td>0.083333</td>\n",
       "      <td>0.655719</td>\n",
       "      <td>0.0</td>\n",
       "      <td>0.610778</td>\n",
       "      <td>0.968484</td>\n",
       "      <td>0.734651</td>\n",
       "      <td>0.000000</td>\n",
       "      <td>0.027377</td>\n",
       "      <td>0.011011</td>\n",
       "      <td>0.000000</td>\n",
       "      <td>0.042083</td>\n",
       "      <td>0.896089</td>\n",
       "      <td>0.029968</td>\n",
       "      <td>0.040613</td>\n",
       "    </tr>\n",
       "    <tr>\n",
       "      <th>2</th>\n",
       "      <td>0.000631</td>\n",
       "      <td>0.663070</td>\n",
       "      <td>1.000000</td>\n",
       "      <td>0.172519</td>\n",
       "      <td>0.0</td>\n",
       "      <td>1.000000</td>\n",
       "      <td>1.000000</td>\n",
       "      <td>1.000000</td>\n",
       "      <td>0.000000</td>\n",
       "      <td>0.027938</td>\n",
       "      <td>0.000000</td>\n",
       "      <td>0.000000</td>\n",
       "      <td>0.038301</td>\n",
       "      <td>0.899809</td>\n",
       "      <td>0.015322</td>\n",
       "      <td>0.034221</td>\n",
       "    </tr>\n",
       "    <tr>\n",
       "      <th>3</th>\n",
       "      <td>0.000947</td>\n",
       "      <td>0.000000</td>\n",
       "      <td>0.000000</td>\n",
       "      <td>0.000000</td>\n",
       "      <td>0.0</td>\n",
       "      <td>0.000000</td>\n",
       "      <td>0.000000</td>\n",
       "      <td>0.000000</td>\n",
       "      <td>0.000000</td>\n",
       "      <td>0.030200</td>\n",
       "      <td>0.012012</td>\n",
       "      <td>0.000000</td>\n",
       "      <td>0.036950</td>\n",
       "      <td>0.781773</td>\n",
       "      <td>0.052952</td>\n",
       "      <td>0.058311</td>\n",
       "    </tr>\n",
       "    <tr>\n",
       "      <th>4</th>\n",
       "      <td>0.001262</td>\n",
       "      <td>1.000000</td>\n",
       "      <td>1.000000</td>\n",
       "      <td>0.061683</td>\n",
       "      <td>0.0</td>\n",
       "      <td>1.000000</td>\n",
       "      <td>1.000000</td>\n",
       "      <td>0.547141</td>\n",
       "      <td>0.001669</td>\n",
       "      <td>0.031317</td>\n",
       "      <td>0.000000</td>\n",
       "      <td>0.000000</td>\n",
       "      <td>0.039483</td>\n",
       "      <td>0.870244</td>\n",
       "      <td>0.065119</td>\n",
       "      <td>0.059365</td>\n",
       "    </tr>\n",
       "    <tr>\n",
       "      <th>...</th>\n",
       "      <td>...</td>\n",
       "      <td>...</td>\n",
       "      <td>...</td>\n",
       "      <td>...</td>\n",
       "      <td>...</td>\n",
       "      <td>...</td>\n",
       "      <td>...</td>\n",
       "      <td>...</td>\n",
       "      <td>...</td>\n",
       "      <td>...</td>\n",
       "      <td>...</td>\n",
       "      <td>...</td>\n",
       "      <td>...</td>\n",
       "      <td>...</td>\n",
       "      <td>...</td>\n",
       "      <td>...</td>\n",
       "    </tr>\n",
       "    <tr>\n",
       "      <th>3165</th>\n",
       "      <td>0.998738</td>\n",
       "      <td>0.899037</td>\n",
       "      <td>0.000000</td>\n",
       "      <td>0.339443</td>\n",
       "      <td>1.0</td>\n",
       "      <td>0.246667</td>\n",
       "      <td>0.717342</td>\n",
       "      <td>0.470028</td>\n",
       "      <td>1.000000</td>\n",
       "      <td>0.020328</td>\n",
       "      <td>0.106106</td>\n",
       "      <td>0.083333</td>\n",
       "      <td>0.143586</td>\n",
       "      <td>0.801670</td>\n",
       "      <td>0.186345</td>\n",
       "      <td>0.217245</td>\n",
       "    </tr>\n",
       "    <tr>\n",
       "      <th>3166</th>\n",
       "      <td>0.999053</td>\n",
       "      <td>0.471464</td>\n",
       "      <td>0.589744</td>\n",
       "      <td>1.000000</td>\n",
       "      <td>0.0</td>\n",
       "      <td>0.000000</td>\n",
       "      <td>0.535208</td>\n",
       "      <td>1.000000</td>\n",
       "      <td>1.000000</td>\n",
       "      <td>0.034883</td>\n",
       "      <td>0.083083</td>\n",
       "      <td>0.000000</td>\n",
       "      <td>0.187121</td>\n",
       "      <td>0.759388</td>\n",
       "      <td>0.203019</td>\n",
       "      <td>0.168999</td>\n",
       "    </tr>\n",
       "    <tr>\n",
       "      <th>3167</th>\n",
       "      <td>0.999369</td>\n",
       "      <td>0.759268</td>\n",
       "      <td>1.000000</td>\n",
       "      <td>0.045809</td>\n",
       "      <td>1.0</td>\n",
       "      <td>0.493333</td>\n",
       "      <td>1.000000</td>\n",
       "      <td>0.000000</td>\n",
       "      <td>1.000000</td>\n",
       "      <td>0.025086</td>\n",
       "      <td>0.067067</td>\n",
       "      <td>0.083333</td>\n",
       "      <td>0.124233</td>\n",
       "      <td>0.867287</td>\n",
       "      <td>0.169671</td>\n",
       "      <td>0.260034</td>\n",
       "    </tr>\n",
       "    <tr>\n",
       "      <th>3168</th>\n",
       "      <td>0.999684</td>\n",
       "      <td>0.138238</td>\n",
       "      <td>0.871795</td>\n",
       "      <td>0.000000</td>\n",
       "      <td>1.0</td>\n",
       "      <td>0.170000</td>\n",
       "      <td>0.072508</td>\n",
       "      <td>0.155742</td>\n",
       "      <td>1.000000</td>\n",
       "      <td>0.046226</td>\n",
       "      <td>0.072072</td>\n",
       "      <td>0.083333</td>\n",
       "      <td>0.121214</td>\n",
       "      <td>0.651975</td>\n",
       "      <td>0.191528</td>\n",
       "      <td>0.245856</td>\n",
       "    </tr>\n",
       "    <tr>\n",
       "      <th>3169</th>\n",
       "      <td>1.000000</td>\n",
       "      <td>0.000000</td>\n",
       "      <td>0.769231</td>\n",
       "      <td>0.126673</td>\n",
       "      <td>1.0</td>\n",
       "      <td>0.286667</td>\n",
       "      <td>0.000000</td>\n",
       "      <td>0.175350</td>\n",
       "      <td>1.000000</td>\n",
       "      <td>0.050931</td>\n",
       "      <td>0.076076</td>\n",
       "      <td>0.083333</td>\n",
       "      <td>0.129563</td>\n",
       "      <td>0.635142</td>\n",
       "      <td>0.183641</td>\n",
       "      <td>0.244071</td>\n",
       "    </tr>\n",
       "  </tbody>\n",
       "</table>\n",
       "<p>3170 rows × 16 columns</p>\n",
       "</div>"
      ],
      "text/plain": [
       "            ID  crimeNorm  accidentNorm  natureNorm  attractionNorm  \\\n",
       "0     0.000000   1.000000      1.000000    1.000000             0.0   \n",
       "1     0.000316   0.827466      0.083333    0.655719             0.0   \n",
       "2     0.000631   0.663070      1.000000    0.172519             0.0   \n",
       "3     0.000947   0.000000      0.000000    0.000000             0.0   \n",
       "4     0.001262   1.000000      1.000000    0.061683             0.0   \n",
       "...        ...        ...           ...         ...             ...   \n",
       "3165  0.998738   0.899037      0.000000    0.339443             1.0   \n",
       "3166  0.999053   0.471464      0.589744    1.000000             0.0   \n",
       "3167  0.999369   0.759268      1.000000    0.045809             1.0   \n",
       "3168  0.999684   0.138238      0.871795    0.000000             1.0   \n",
       "3169  1.000000   0.000000      0.769231    0.126673             1.0   \n",
       "\n",
       "      durationNorm  trafficNorm  lengthNorm     setID    crimes  accidents  \\\n",
       "0         0.850299     0.902928    0.943543  0.000000  0.026788   0.000000   \n",
       "1         0.610778     0.968484    0.734651  0.000000  0.027377   0.011011   \n",
       "2         1.000000     1.000000    1.000000  0.000000  0.027938   0.000000   \n",
       "3         0.000000     0.000000    0.000000  0.000000  0.030200   0.012012   \n",
       "4         1.000000     1.000000    0.547141  0.001669  0.031317   0.000000   \n",
       "...            ...          ...         ...       ...       ...        ...   \n",
       "3165      0.246667     0.717342    0.470028  1.000000  0.020328   0.106106   \n",
       "3166      0.000000     0.535208    1.000000  1.000000  0.034883   0.083083   \n",
       "3167      0.493333     1.000000    0.000000  1.000000  0.025086   0.067067   \n",
       "3168      0.170000     0.072508    0.155742  1.000000  0.046226   0.072072   \n",
       "3169      0.286667     0.000000    0.175350  1.000000  0.050931   0.076076   \n",
       "\n",
       "      attractions    nature   traffic  duration    length  \n",
       "0        0.000000  0.044779  0.888351  0.020955  0.035581  \n",
       "1        0.000000  0.042083  0.896089  0.029968  0.040613  \n",
       "2        0.000000  0.038301  0.899809  0.015322  0.034221  \n",
       "3        0.000000  0.036950  0.781773  0.052952  0.058311  \n",
       "4        0.000000  0.039483  0.870244  0.065119  0.059365  \n",
       "...           ...       ...       ...       ...       ...  \n",
       "3165     0.083333  0.143586  0.801670  0.186345  0.217245  \n",
       "3166     0.000000  0.187121  0.759388  0.203019  0.168999  \n",
       "3167     0.083333  0.124233  0.867287  0.169671  0.260034  \n",
       "3168     0.083333  0.121214  0.651975  0.191528  0.245856  \n",
       "3169     0.083333  0.129563  0.635142  0.183641  0.244071  \n",
       "\n",
       "[3170 rows x 16 columns]"
      ]
     },
     "execution_count": 20,
     "metadata": {},
     "output_type": "execute_result"
    }
   ],
   "source": [
    "df_scaled.reset_index(drop=True, inplace=True)\n",
    "df_scaled"
   ]
  },
  {
   "cell_type": "code",
   "execution_count": 21,
   "metadata": {},
   "outputs": [],
   "source": [
    "df.drop(['setID', 'crimeNorm', 'accidentNorm', 'natureNorm', 'attractionNorm', 'durationNorm', 'trafficNorm', 'lengthNorm'], axis=1, inplace=True)"
   ]
  },
  {
   "cell_type": "code",
   "execution_count": 22,
   "metadata": {},
   "outputs": [],
   "source": [
    "target = pd.DataFrame(data=df['crimes'], columns=['crimes'])\n",
    "df.drop(['crimes'], axis=1, inplace=True)"
   ]
  },
  {
   "cell_type": "code",
   "execution_count": 23,
   "metadata": {},
   "outputs": [],
   "source": [
    "from sklearn import metrics"
   ]
  },
  {
   "cell_type": "code",
   "execution_count": 24,
   "metadata": {},
   "outputs": [],
   "source": [
    "from sklearn.model_selection import train_test_split\n",
    "\n",
    "x_train, x_test, y_train, y_test = train_test_split(df, target, \n",
    "                                                    train_size = 0.7, random_state = 20)"
   ]
  },
  {
   "cell_type": "markdown",
   "metadata": {},
   "source": [
    "## setting crimes as the target"
   ]
  },
  {
   "cell_type": "code",
   "execution_count": 25,
   "metadata": {},
   "outputs": [
    {
     "data": {
      "text/html": [
       "<div>\n",
       "<style scoped>\n",
       "    .dataframe tbody tr th:only-of-type {\n",
       "        vertical-align: middle;\n",
       "    }\n",
       "\n",
       "    .dataframe tbody tr th {\n",
       "        vertical-align: top;\n",
       "    }\n",
       "\n",
       "    .dataframe thead th {\n",
       "        text-align: right;\n",
       "    }\n",
       "</style>\n",
       "<table border=\"1\" class=\"dataframe\">\n",
       "  <thead>\n",
       "    <tr style=\"text-align: right;\">\n",
       "      <th></th>\n",
       "      <th>crimes</th>\n",
       "    </tr>\n",
       "  </thead>\n",
       "  <tbody>\n",
       "    <tr>\n",
       "      <th>0</th>\n",
       "      <td>93945.0</td>\n",
       "    </tr>\n",
       "    <tr>\n",
       "      <th>1</th>\n",
       "      <td>95832.0</td>\n",
       "    </tr>\n",
       "    <tr>\n",
       "      <th>2</th>\n",
       "      <td>97630.0</td>\n",
       "    </tr>\n",
       "    <tr>\n",
       "      <th>3</th>\n",
       "      <td>104882.0</td>\n",
       "    </tr>\n",
       "    <tr>\n",
       "      <th>4</th>\n",
       "      <td>108461.0</td>\n",
       "    </tr>\n",
       "    <tr>\n",
       "      <th>...</th>\n",
       "      <td>...</td>\n",
       "    </tr>\n",
       "    <tr>\n",
       "      <th>3165</th>\n",
       "      <td>73238.0</td>\n",
       "    </tr>\n",
       "    <tr>\n",
       "      <th>3166</th>\n",
       "      <td>119890.0</td>\n",
       "    </tr>\n",
       "    <tr>\n",
       "      <th>3167</th>\n",
       "      <td>88488.0</td>\n",
       "    </tr>\n",
       "    <tr>\n",
       "      <th>3168</th>\n",
       "      <td>156248.0</td>\n",
       "    </tr>\n",
       "    <tr>\n",
       "      <th>3169</th>\n",
       "      <td>171331.0</td>\n",
       "    </tr>\n",
       "  </tbody>\n",
       "</table>\n",
       "<p>3170 rows × 1 columns</p>\n",
       "</div>"
      ],
      "text/plain": [
       "        crimes\n",
       "0      93945.0\n",
       "1      95832.0\n",
       "2      97630.0\n",
       "3     104882.0\n",
       "4     108461.0\n",
       "...        ...\n",
       "3165   73238.0\n",
       "3166  119890.0\n",
       "3167   88488.0\n",
       "3168  156248.0\n",
       "3169  171331.0\n",
       "\n",
       "[3170 rows x 1 columns]"
      ]
     },
     "execution_count": 25,
     "metadata": {},
     "output_type": "execute_result"
    }
   ],
   "source": [
    "target"
   ]
  },
  {
   "cell_type": "code",
   "execution_count": 26,
   "metadata": {},
   "outputs": [
    {
     "name": "stdout",
     "output_type": "stream",
     "text": [
      "Training data r-squared 0.7892539085465138\n",
      "Test data r-squared 0.7626160493159014\n",
      "Wall time: 1.84 s\n"
     ]
    }
   ],
   "source": [
    "%%time\n",
    "from sklearn.linear_model import LinearRegression\n",
    "from sklearn.metrics import mean_squared_error\n",
    "\n",
    "regr = LinearRegression()\n",
    "regr.fit(x_train, y_train)\n",
    "y_pred = regr.predict(x_test)\n",
    "print('Training data r-squared', regr.score(x_train, y_train))\n",
    "print('Test data r-squared', regr.score(x_test, y_test))\n",
    "regr = regr.score(x_test, y_test)*100"
   ]
  },
  {
   "cell_type": "code",
   "execution_count": 27,
   "metadata": {},
   "outputs": [
    {
     "data": {
      "text/plain": [
       "76.26160493159014"
      ]
     },
     "execution_count": 27,
     "metadata": {},
     "output_type": "execute_result"
    }
   ],
   "source": [
    "regr"
   ]
  },
  {
   "cell_type": "code",
   "execution_count": 28,
   "metadata": {},
   "outputs": [],
   "source": [
    "regr_time = 0.032"
   ]
  },
  {
   "cell_type": "code",
   "execution_count": 29,
   "metadata": {},
   "outputs": [
    {
     "data": {
      "text/plain": [
       "(951,)"
      ]
     },
     "execution_count": 29,
     "metadata": {},
     "output_type": "execute_result"
    }
   ],
   "source": [
    "np.ravel(y_pred).shape"
   ]
  },
  {
   "cell_type": "code",
   "execution_count": 30,
   "metadata": {},
   "outputs": [],
   "source": [
    "regr_mse = metrics.mean_squared_error(y_test.values.flatten(), np.ravel(y_pred))"
   ]
  },
  {
   "cell_type": "code",
   "execution_count": 31,
   "metadata": {},
   "outputs": [],
   "source": [
    "regr_r2 = metrics.r2_score(y_test.values.flatten(), np.ravel(y_pred))"
   ]
  },
  {
   "cell_type": "code",
   "execution_count": 32,
   "metadata": {},
   "outputs": [],
   "source": [
    "regr_mae = metrics.mean_absolute_error(y_test.values.flatten(), np.ravel(y_pred))"
   ]
  },
  {
   "cell_type": "markdown",
   "metadata": {},
   "source": [
    "### Decision Tree"
   ]
  },
  {
   "cell_type": "code",
   "execution_count": 33,
   "metadata": {},
   "outputs": [
    {
     "name": "stdout",
     "output_type": "stream",
     "text": [
      "Wall time: 395 ms\n"
     ]
    },
    {
     "data": {
      "text/plain": [
       "DecisionTreeRegressor()"
      ]
     },
     "execution_count": 33,
     "metadata": {},
     "output_type": "execute_result"
    }
   ],
   "source": [
    "%%time\n",
    "from sklearn import tree\n",
    "\n",
    "tree_model = tree.DecisionTreeRegressor()\n",
    "tree_model.fit(x_train, y_train)"
   ]
  },
  {
   "cell_type": "code",
   "execution_count": 34,
   "metadata": {},
   "outputs": [
    {
     "name": "stdout",
     "output_type": "stream",
     "text": [
      "0.6840739424794641\n"
     ]
    },
    {
     "data": {
      "text/plain": [
       "0.0010515247108307045"
      ]
     },
     "execution_count": 34,
     "metadata": {},
     "output_type": "execute_result"
    }
   ],
   "source": [
    "predictions = tree_model.predict(x_test)\n",
    "print(tree_model.score(x_test, y_test))\n",
    "tree = tree_model.score(x_test, y_test)*100\n",
    "metrics.precision_score(y_test, predictions, average='micro')"
   ]
  },
  {
   "cell_type": "code",
   "execution_count": 35,
   "metadata": {},
   "outputs": [
    {
     "data": {
      "text/plain": [
       "68.40739424794641"
      ]
     },
     "execution_count": 35,
     "metadata": {},
     "output_type": "execute_result"
    }
   ],
   "source": [
    "tree"
   ]
  },
  {
   "cell_type": "code",
   "execution_count": 36,
   "metadata": {},
   "outputs": [],
   "source": [
    "tree_time = 0.0625"
   ]
  },
  {
   "cell_type": "code",
   "execution_count": 37,
   "metadata": {},
   "outputs": [],
   "source": [
    "tree_mse = metrics.mean_squared_error(y_test.values.flatten(), np.ravel(predictions))"
   ]
  },
  {
   "cell_type": "code",
   "execution_count": 38,
   "metadata": {},
   "outputs": [],
   "source": [
    "tree_r2 = metrics.r2_score(y_test.values.flatten(), np.ravel(predictions))"
   ]
  },
  {
   "cell_type": "code",
   "execution_count": 39,
   "metadata": {},
   "outputs": [],
   "source": [
    "tree_mae = metrics.mean_absolute_error(y_test.values.flatten(), np.ravel(predictions))"
   ]
  },
  {
   "cell_type": "markdown",
   "metadata": {},
   "source": [
    "### Random Forest"
   ]
  },
  {
   "cell_type": "code",
   "execution_count": 40,
   "metadata": {},
   "outputs": [
    {
     "name": "stderr",
     "output_type": "stream",
     "text": [
      "<timed exec>:5: DataConversionWarning: A column-vector y was passed when a 1d array was expected. Please change the shape of y to (n_samples,), for example using ravel().\n"
     ]
    },
    {
     "name": "stdout",
     "output_type": "stream",
     "text": [
      "Wall time: 1.32 s\n"
     ]
    },
    {
     "data": {
      "text/plain": [
       "RandomForestRegressor()"
      ]
     },
     "execution_count": 40,
     "metadata": {},
     "output_type": "execute_result"
    }
   ],
   "source": [
    "%%time\n",
    "from sklearn.ensemble import RandomForestRegressor\n",
    "\n",
    "rfr = RandomForestRegressor()\n",
    "\n",
    "rfr.fit(x_train, y_train)"
   ]
  },
  {
   "cell_type": "code",
   "execution_count": 41,
   "metadata": {},
   "outputs": [],
   "source": [
    "predictions_rfr = rfr.predict(x_test)\n",
    "rfr = rfr.score(x_test, y_test)*100"
   ]
  },
  {
   "cell_type": "code",
   "execution_count": 42,
   "metadata": {},
   "outputs": [
    {
     "data": {
      "text/plain": [
       "84.50138615106141"
      ]
     },
     "execution_count": 42,
     "metadata": {},
     "output_type": "execute_result"
    }
   ],
   "source": [
    "rfr"
   ]
  },
  {
   "cell_type": "code",
   "execution_count": 43,
   "metadata": {},
   "outputs": [],
   "source": [
    "rfr_time = 0.873"
   ]
  },
  {
   "cell_type": "code",
   "execution_count": 44,
   "metadata": {},
   "outputs": [
    {
     "data": {
      "text/plain": [
       "20184087770.299347"
      ]
     },
     "execution_count": 44,
     "metadata": {},
     "output_type": "execute_result"
    }
   ],
   "source": [
    "rfr_mse = metrics.mean_squared_error(y_test.values.flatten(), np.ravel(predictions_rfr))\n",
    "rfr_mse"
   ]
  },
  {
   "cell_type": "code",
   "execution_count": 45,
   "metadata": {},
   "outputs": [],
   "source": [
    "rfr_r2 = metrics.r2_score(y_test.values.flatten(), np.ravel(predictions_rfr))"
   ]
  },
  {
   "cell_type": "code",
   "execution_count": 46,
   "metadata": {},
   "outputs": [],
   "source": [
    "rfr_mae = metrics.mean_absolute_error(y_test.values.flatten(), np.ravel(predictions_rfr))"
   ]
  },
  {
   "cell_type": "markdown",
   "metadata": {},
   "source": [
    "## K neighbours"
   ]
  },
  {
   "cell_type": "code",
   "execution_count": 47,
   "metadata": {},
   "outputs": [],
   "source": [
    "from sklearn import neighbors\n",
    "from math import sqrt"
   ]
  },
  {
   "cell_type": "code",
   "execution_count": 78,
   "metadata": {},
   "outputs": [
    {
     "data": {
      "text/plain": [
       "{'n_neighbors': 9}"
      ]
     },
     "execution_count": 78,
     "metadata": {},
     "output_type": "execute_result"
    }
   ],
   "source": [
    "from sklearn.model_selection import GridSearchCV\n",
    "params = {'n_neighbors':[2,3,4,5,6,7,8,9]}\n",
    "\n",
    "knn = neighbors.KNeighborsRegressor()\n",
    "\n",
    "model = GridSearchCV(knn, params, cv=5)\n",
    "model.fit(x_train,y_train)\n",
    "model.best_params_"
   ]
  },
  {
   "cell_type": "code",
   "execution_count": 49,
   "metadata": {},
   "outputs": [
    {
     "name": "stdout",
     "output_type": "stream",
     "text": [
      "Wall time: 4.02 ms\n"
     ]
    },
    {
     "data": {
      "text/plain": [
       "KNeighborsRegressor(n_neighbors=9)"
      ]
     },
     "execution_count": 49,
     "metadata": {},
     "output_type": "execute_result"
    }
   ],
   "source": [
    "%%time\n",
    "neigh = neighbors.KNeighborsRegressor(n_neighbors = 9)\n",
    "neigh.fit(x_train, y_train)"
   ]
  },
  {
   "cell_type": "code",
   "execution_count": 50,
   "metadata": {},
   "outputs": [],
   "source": [
    "predictions_neigh = neigh.predict(x_test)\n",
    "k_neigh = neigh.score(x_test, y_test)*100"
   ]
  },
  {
   "cell_type": "code",
   "execution_count": 51,
   "metadata": {},
   "outputs": [
    {
     "data": {
      "text/plain": [
       "4.164268147217198"
      ]
     },
     "execution_count": 51,
     "metadata": {},
     "output_type": "execute_result"
    }
   ],
   "source": [
    "k_neigh"
   ]
  },
  {
   "cell_type": "code",
   "execution_count": 52,
   "metadata": {},
   "outputs": [],
   "source": [
    "neigh_time = 0.0089"
   ]
  },
  {
   "cell_type": "code",
   "execution_count": 53,
   "metadata": {},
   "outputs": [
    {
     "data": {
      "text/plain": [
       "124808375903.88211"
      ]
     },
     "execution_count": 53,
     "metadata": {},
     "output_type": "execute_result"
    }
   ],
   "source": [
    "neigh_mse = metrics.mean_squared_error(y_test.values.flatten(), np.ravel(predictions_neigh))\n",
    "neigh_mse"
   ]
  },
  {
   "cell_type": "code",
   "execution_count": 54,
   "metadata": {},
   "outputs": [],
   "source": [
    "neigh_r2 = metrics.r2_score(y_test.values.flatten(), np.ravel(predictions_neigh))"
   ]
  },
  {
   "cell_type": "code",
   "execution_count": 55,
   "metadata": {},
   "outputs": [],
   "source": [
    "neigh_mae = metrics.mean_absolute_error(y_test.values.flatten(), np.ravel(predictions_neigh))"
   ]
  },
  {
   "cell_type": "markdown",
   "metadata": {},
   "source": [
    "## Naive Bayes"
   ]
  },
  {
   "cell_type": "code",
   "execution_count": 56,
   "metadata": {},
   "outputs": [],
   "source": [
    "from sklearn.naive_bayes import GaussianNB\n",
    "gaus_model = GaussianNB()"
   ]
  },
  {
   "cell_type": "code",
   "execution_count": 57,
   "metadata": {},
   "outputs": [
    {
     "name": "stdout",
     "output_type": "stream",
     "text": [
      "Wall time: 206 ms\n"
     ]
    },
    {
     "name": "stderr",
     "output_type": "stream",
     "text": [
      "C:\\Users\\91977\\anaconda3\\lib\\site-packages\\sklearn\\utils\\validation.py:73: DataConversionWarning: A column-vector y was passed when a 1d array was expected. Please change the shape of y to (n_samples, ), for example using ravel().\n",
      "  return f(**kwargs)\n"
     ]
    },
    {
     "data": {
      "text/plain": [
       "GaussianNB()"
      ]
     },
     "execution_count": 57,
     "metadata": {},
     "output_type": "execute_result"
    }
   ],
   "source": [
    "%%time\n",
    "gaus_model.fit(x_train, y_train)"
   ]
  },
  {
   "cell_type": "code",
   "execution_count": 58,
   "metadata": {},
   "outputs": [],
   "source": [
    "gaus_time = 0.95"
   ]
  },
  {
   "cell_type": "code",
   "execution_count": 59,
   "metadata": {},
   "outputs": [],
   "source": [
    "predictions_gaus = gaus_model.predict(x_test)\n",
    "gaus = gaus_model.score(x_test, y_test)*100"
   ]
  },
  {
   "cell_type": "code",
   "execution_count": 60,
   "metadata": {},
   "outputs": [
    {
     "data": {
      "text/plain": [
       "0.10515247108307045"
      ]
     },
     "execution_count": 60,
     "metadata": {},
     "output_type": "execute_result"
    }
   ],
   "source": [
    "gaus"
   ]
  },
  {
   "cell_type": "code",
   "execution_count": 61,
   "metadata": {},
   "outputs": [
    {
     "data": {
      "text/plain": [
       "187013303106.00842"
      ]
     },
     "execution_count": 61,
     "metadata": {},
     "output_type": "execute_result"
    }
   ],
   "source": [
    "gaus_mse = metrics.mean_squared_error(y_test.values.flatten(), np.ravel(predictions_gaus))\n",
    "gaus_mse"
   ]
  },
  {
   "cell_type": "code",
   "execution_count": 62,
   "metadata": {},
   "outputs": [],
   "source": [
    "gaus_r2 = metrics.r2_score(y_test.values.flatten(), np.ravel(predictions_gaus))"
   ]
  },
  {
   "cell_type": "code",
   "execution_count": 63,
   "metadata": {},
   "outputs": [
    {
     "data": {
      "text/plain": [
       "-0.4360059282538218"
      ]
     },
     "execution_count": 63,
     "metadata": {},
     "output_type": "execute_result"
    }
   ],
   "source": [
    "gaus_r2"
   ]
  },
  {
   "cell_type": "code",
   "execution_count": 64,
   "metadata": {},
   "outputs": [],
   "source": [
    "gaus_mae = metrics.mean_absolute_error(y_test.values.flatten(), np.ravel(predictions_gaus))"
   ]
  },
  {
   "cell_type": "markdown",
   "metadata": {},
   "source": [
    "## Plotting"
   ]
  },
  {
   "cell_type": "code",
   "execution_count": 65,
   "metadata": {},
   "outputs": [
    {
     "data": {
      "text/plain": [
       "array([76.26160493, 68.40739425, 84.50138615,  4.16426815,  0.10515247])"
      ]
     },
     "execution_count": 65,
     "metadata": {},
     "output_type": "execute_result"
    }
   ],
   "source": [
    "accuracy_score = np.array([regr, tree, rfr, k_neigh, gaus])\n",
    "column_names = np.array(['Regression', 'Decision Tree', 'Random Forest', 'K Neighbours', 'Naive Bayes'])\n",
    "finals = pd.DataFrame([accuracy_score], columns=column_names)\n",
    "accuracy_score"
   ]
  },
  {
   "cell_type": "code",
   "execution_count": 66,
   "metadata": {},
   "outputs": [],
   "source": [
    "fitting_time  = np.array([regr_time, tree_time, rfr_time, neigh_time, gaus_time])"
   ]
  },
  {
   "cell_type": "code",
   "execution_count": 67,
   "metadata": {},
   "outputs": [],
   "source": [
    "MSE = np.array([regr_mse, tree_mse, rfr_mse, neigh_mse, gaus_mse])"
   ]
  },
  {
   "cell_type": "code",
   "execution_count": 68,
   "metadata": {},
   "outputs": [],
   "source": [
    "r2 = np.array([regr_r2, tree_r2, rfr_r2, neigh_r2, gaus_r2])"
   ]
  },
  {
   "cell_type": "code",
   "execution_count": 69,
   "metadata": {},
   "outputs": [],
   "source": [
    "MAE = np.array([regr_mae, tree_mae, rfr_mae, neigh_mae, gaus_mae])"
   ]
  },
  {
   "cell_type": "code",
   "execution_count": 70,
   "metadata": {},
   "outputs": [
    {
     "data": {
      "text/html": [
       "<div>\n",
       "<style scoped>\n",
       "    .dataframe tbody tr th:only-of-type {\n",
       "        vertical-align: middle;\n",
       "    }\n",
       "\n",
       "    .dataframe tbody tr th {\n",
       "        vertical-align: top;\n",
       "    }\n",
       "\n",
       "    .dataframe thead th {\n",
       "        text-align: right;\n",
       "    }\n",
       "</style>\n",
       "<table border=\"1\" class=\"dataframe\">\n",
       "  <thead>\n",
       "    <tr style=\"text-align: right;\">\n",
       "      <th></th>\n",
       "      <th>Regression</th>\n",
       "      <th>Decision Tree</th>\n",
       "      <th>Random Forest</th>\n",
       "      <th>K Neighbours</th>\n",
       "      <th>Naive Bayes</th>\n",
       "    </tr>\n",
       "  </thead>\n",
       "  <tbody>\n",
       "    <tr>\n",
       "      <th>0</th>\n",
       "      <td>76.261605</td>\n",
       "      <td>68.407394</td>\n",
       "      <td>84.501386</td>\n",
       "      <td>4.164268</td>\n",
       "      <td>0.105152</td>\n",
       "    </tr>\n",
       "  </tbody>\n",
       "</table>\n",
       "</div>"
      ],
      "text/plain": [
       "   Regression  Decision Tree  Random Forest  K Neighbours  Naive Bayes\n",
       "0   76.261605      68.407394      84.501386      4.164268     0.105152"
      ]
     },
     "execution_count": 70,
     "metadata": {},
     "output_type": "execute_result"
    }
   ],
   "source": [
    "finals"
   ]
  },
  {
   "cell_type": "code",
   "execution_count": 71,
   "metadata": {},
   "outputs": [
    {
     "data": {
      "text/html": [
       "<div>\n",
       "<style scoped>\n",
       "    .dataframe tbody tr th:only-of-type {\n",
       "        vertical-align: middle;\n",
       "    }\n",
       "\n",
       "    .dataframe tbody tr th {\n",
       "        vertical-align: top;\n",
       "    }\n",
       "\n",
       "    .dataframe thead th {\n",
       "        text-align: right;\n",
       "    }\n",
       "</style>\n",
       "<table border=\"1\" class=\"dataframe\">\n",
       "  <thead>\n",
       "    <tr style=\"text-align: right;\">\n",
       "      <th></th>\n",
       "      <th>Regression</th>\n",
       "      <th>Decision Tree</th>\n",
       "      <th>Random Forest</th>\n",
       "      <th>K Neighbours</th>\n",
       "      <th>Naive Bayes</th>\n",
       "    </tr>\n",
       "  </thead>\n",
       "  <tbody>\n",
       "    <tr>\n",
       "      <th>0</th>\n",
       "      <td>76.261605</td>\n",
       "      <td>68.407394</td>\n",
       "      <td>84.501386</td>\n",
       "      <td>4.164268</td>\n",
       "      <td>0.105152</td>\n",
       "    </tr>\n",
       "    <tr>\n",
       "      <th>1</th>\n",
       "      <td>125467.759009</td>\n",
       "      <td>137961.323870</td>\n",
       "      <td>101225.314637</td>\n",
       "      <td>243591.865872</td>\n",
       "      <td>266427.049422</td>\n",
       "    </tr>\n",
       "  </tbody>\n",
       "</table>\n",
       "</div>"
      ],
      "text/plain": [
       "      Regression  Decision Tree  Random Forest   K Neighbours    Naive Bayes\n",
       "0      76.261605      68.407394      84.501386       4.164268       0.105152\n",
       "1  125467.759009  137961.323870  101225.314637  243591.865872  266427.049422"
      ]
     },
     "execution_count": 71,
     "metadata": {},
     "output_type": "execute_result"
    }
   ],
   "source": [
    "finals.loc[len(finals.index)] = MAE\n",
    "finals"
   ]
  },
  {
   "cell_type": "code",
   "execution_count": 72,
   "metadata": {},
   "outputs": [
    {
     "data": {
      "text/html": [
       "<div>\n",
       "<style scoped>\n",
       "    .dataframe tbody tr th:only-of-type {\n",
       "        vertical-align: middle;\n",
       "    }\n",
       "\n",
       "    .dataframe tbody tr th {\n",
       "        vertical-align: top;\n",
       "    }\n",
       "\n",
       "    .dataframe thead th {\n",
       "        text-align: right;\n",
       "    }\n",
       "</style>\n",
       "<table border=\"1\" class=\"dataframe\">\n",
       "  <thead>\n",
       "    <tr style=\"text-align: right;\">\n",
       "      <th></th>\n",
       "      <th>Regression</th>\n",
       "      <th>Decision Tree</th>\n",
       "      <th>Random Forest</th>\n",
       "      <th>K Neighbours</th>\n",
       "      <th>Naive Bayes</th>\n",
       "    </tr>\n",
       "  </thead>\n",
       "  <tbody>\n",
       "    <tr>\n",
       "      <th>0</th>\n",
       "      <td>76.261605</td>\n",
       "      <td>68.407394</td>\n",
       "      <td>84.501386</td>\n",
       "      <td>4.164268</td>\n",
       "      <td>0.105152</td>\n",
       "    </tr>\n",
       "    <tr>\n",
       "      <th>1</th>\n",
       "      <td>125467.759009</td>\n",
       "      <td>137961.323870</td>\n",
       "      <td>101225.314637</td>\n",
       "      <td>243591.865872</td>\n",
       "      <td>266427.049422</td>\n",
       "    </tr>\n",
       "    <tr>\n",
       "      <th>2</th>\n",
       "      <td>0.762616</td>\n",
       "      <td>0.684074</td>\n",
       "      <td>0.845014</td>\n",
       "      <td>0.041643</td>\n",
       "      <td>-0.436006</td>\n",
       "    </tr>\n",
       "  </tbody>\n",
       "</table>\n",
       "</div>"
      ],
      "text/plain": [
       "      Regression  Decision Tree  Random Forest   K Neighbours    Naive Bayes\n",
       "0      76.261605      68.407394      84.501386       4.164268       0.105152\n",
       "1  125467.759009  137961.323870  101225.314637  243591.865872  266427.049422\n",
       "2       0.762616       0.684074       0.845014       0.041643      -0.436006"
      ]
     },
     "execution_count": 72,
     "metadata": {},
     "output_type": "execute_result"
    }
   ],
   "source": [
    "finals.loc[len(finals.index)] = r2\n",
    "finals"
   ]
  },
  {
   "cell_type": "code",
   "execution_count": 73,
   "metadata": {},
   "outputs": [
    {
     "data": {
      "text/html": [
       "<div>\n",
       "<style scoped>\n",
       "    .dataframe tbody tr th:only-of-type {\n",
       "        vertical-align: middle;\n",
       "    }\n",
       "\n",
       "    .dataframe tbody tr th {\n",
       "        vertical-align: top;\n",
       "    }\n",
       "\n",
       "    .dataframe thead th {\n",
       "        text-align: right;\n",
       "    }\n",
       "</style>\n",
       "<table border=\"1\" class=\"dataframe\">\n",
       "  <thead>\n",
       "    <tr style=\"text-align: right;\">\n",
       "      <th></th>\n",
       "      <th>Regression</th>\n",
       "      <th>Decision Tree</th>\n",
       "      <th>Random Forest</th>\n",
       "      <th>K Neighbours</th>\n",
       "      <th>Naive Bayes</th>\n",
       "    </tr>\n",
       "  </thead>\n",
       "  <tbody>\n",
       "    <tr>\n",
       "      <th>0</th>\n",
       "      <td>7.626160e+01</td>\n",
       "      <td>6.840739e+01</td>\n",
       "      <td>8.450139e+01</td>\n",
       "      <td>4.164268e+00</td>\n",
       "      <td>1.051525e-01</td>\n",
       "    </tr>\n",
       "    <tr>\n",
       "      <th>1</th>\n",
       "      <td>1.254678e+05</td>\n",
       "      <td>1.379613e+05</td>\n",
       "      <td>1.012253e+05</td>\n",
       "      <td>2.435919e+05</td>\n",
       "      <td>2.664270e+05</td>\n",
       "    </tr>\n",
       "    <tr>\n",
       "      <th>2</th>\n",
       "      <td>7.626160e-01</td>\n",
       "      <td>6.840739e-01</td>\n",
       "      <td>8.450139e-01</td>\n",
       "      <td>4.164268e-02</td>\n",
       "      <td>-4.360059e-01</td>\n",
       "    </tr>\n",
       "    <tr>\n",
       "      <th>3</th>\n",
       "      <td>3.091488e+10</td>\n",
       "      <td>4.114355e+10</td>\n",
       "      <td>2.018409e+10</td>\n",
       "      <td>1.248084e+11</td>\n",
       "      <td>1.870133e+11</td>\n",
       "    </tr>\n",
       "  </tbody>\n",
       "</table>\n",
       "</div>"
      ],
      "text/plain": [
       "     Regression  Decision Tree  Random Forest  K Neighbours   Naive Bayes\n",
       "0  7.626160e+01   6.840739e+01   8.450139e+01  4.164268e+00  1.051525e-01\n",
       "1  1.254678e+05   1.379613e+05   1.012253e+05  2.435919e+05  2.664270e+05\n",
       "2  7.626160e-01   6.840739e-01   8.450139e-01  4.164268e-02 -4.360059e-01\n",
       "3  3.091488e+10   4.114355e+10   2.018409e+10  1.248084e+11  1.870133e+11"
      ]
     },
     "execution_count": 73,
     "metadata": {},
     "output_type": "execute_result"
    }
   ],
   "source": [
    "finals.loc[len(finals.index)] = MSE\n",
    "finals"
   ]
  },
  {
   "cell_type": "code",
   "execution_count": 74,
   "metadata": {},
   "outputs": [
    {
     "data": {
      "image/png": "[encoded data removed]",
      "text/plain": [
       "<Figure size 720x288 with 1 Axes>"
      ]
     },
     "metadata": {
      "needs_background": "light"
     },
     "output_type": "display_data"
    }
   ],
   "source": [
    "row = finals.iloc[0]\n",
    "plt.figure(figsize=(10, 4))\n",
    "row.plot(kind='bar')\n",
    "plt.ylabel('Accuracy')\n",
    "plt.show()"
   ]
  },
  {
   "cell_type": "code",
   "execution_count": 75,
   "metadata": {},
   "outputs": [
    {
     "data": {
      "image/png": "[encoded data removed]",
      "text/plain": [
       "<Figure size 720x288 with 1 Axes>"
      ]
     },
     "metadata": {
      "needs_background": "light"
     },
     "output_type": "display_data"
    }
   ],
   "source": [
    "row = finals.iloc[1]\n",
    "plt.figure(figsize=(10, 4))\n",
    "row.plot(kind='bar')\n",
    "plt.ylabel('Mean Absolute Error')\n",
    "plt.show()"
   ]
  },
  {
   "cell_type": "code",
   "execution_count": 76,
   "metadata": {},
   "outputs": [
    {
     "data": {
      "image/png": "[encoded data removed]",
      "text/plain": [
       "<Figure size 720x288 with 1 Axes>"
      ]
     },
     "metadata": {
      "needs_background": "light"
     },
     "output_type": "display_data"
    }
   ],
   "source": [
    "row = finals.iloc[2]\n",
    "plt.figure(figsize=(10, 4))\n",
    "row.plot(kind='bar')\n",
    "plt.ylabel('R2-Squared Error')\n",
    "plt.show()"
   ]
  },
  {
   "cell_type": "code",
   "execution_count": 77,
   "metadata": {},
   "outputs": [
    {
     "data": {
      "image/png": "[encoded data removed]",
      "text/plain": [
       "<Figure size 720x288 with 1 Axes>"
      ]
     },
     "metadata": {
      "needs_background": "light"
     },
     "output_type": "display_data"
    }
   ],
   "source": [
    "row = finals.iloc[1]\n",
    "plt.figure(figsize=(10, 4))\n",
    "row.plot(kind='bar')\n",
    "plt.ylabel('Mean squared error')\n",
    "plt.show()"
   ]
  },
  {
   "cell_type": "code",
   "execution_count": null,
   "metadata": {},
   "outputs": [],
   "source": []
  }
 ],
 "metadata": {
  "kernelspec": {
   "display_name": "Python 3",
   "language": "python",
   "name": "python3"
  },
  "language_info": {
   "codemirror_mode": {
    "name": "ipython",
    "version": 3
   },
   "file_extension": ".py",
   "mimetype": "text/x-python",
   "name": "python",
   "nbconvert_exporter": "python",
   "pygments_lexer": "ipython3",
   "version": "3.8.3"
  }
 },
 "nbformat": 4,
 "nbformat_minor": 4
}
